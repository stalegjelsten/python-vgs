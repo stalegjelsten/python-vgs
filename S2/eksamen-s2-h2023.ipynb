{
 "cells": [
  {
   "cell_type": "code",
   "execution_count": 1,
   "metadata": {},
   "outputs": [
    {
     "name": "stdout",
     "output_type": "stream",
     "text": [
      "Det er 25251 kuler i figur 100.\n"
     ]
    }
   ],
   "source": [
    "a = 1\n",
    "d = 5\n",
    "\n",
    "for i in range(1,101):\n",
    "    a = a + d * i\n",
    "\n",
    "print(f\"Det er {a} kuler i figur 100.\")"
   ]
  },
  {
   "cell_type": "code",
   "execution_count": 23,
   "metadata": {},
   "outputs": [
    {
     "name": "stdout",
     "output_type": "stream",
     "text": [
      "Sannsynligheten for at barnet er mindre enn 84 cm ved 24 måneder er omtrent 0.15.\n"
     ]
    }
   ],
   "source": [
    "import random\n",
    "forventning_jente = 87\n",
    "standardavvik_jente = 3.3\n",
    "forventning_gutt = 88\n",
    "standardavvik_gutt = 3.1\n",
    "\n",
    "antall_gunstige = 0\n",
    "N = 10000 # gjør 10000 trekk\n",
    "grenseverdi = 84\n",
    "\n",
    "for i in range(N):\n",
    "    # gjør det tilfeldig om vi trekker en jente eller gutt\n",
    "    if (random.random() < 0.5):\n",
    "        hoyde = random.gauss(forventning_jente, standardavvik_jente)\n",
    "    else:\n",
    "        hoyde = random.gauss(forventning_gutt, standardavvik_gutt)\n",
    "\n",
    "    if hoyde < grenseverdi:\n",
    "        antall_gunstige += 1\n",
    "\n",
    "andel_gunstige = antall_gunstige / N\n",
    "\n",
    "print(f\"Sannsynligheten for at barnet er mindre enn {grenseverdi} cm ved 24 måneder er omtrent {andel_gunstige:.2f}.\")\n",
    "\n",
    "\n"
   ]
  },
  {
   "cell_type": "code",
   "execution_count": 3,
   "metadata": {},
   "outputs": [
    {
     "name": "stdout",
     "output_type": "stream",
     "text": [
      "Miriam har 565594 kr på konto like etter innskudd 20.\n"
     ]
    }
   ],
   "source": [
    "# oppgave 2-2a Miriams sparing\n",
    "aarlig_belop = 20_000\n",
    "forste_aar = 2024\n",
    "rentesats = 0.035\n",
    "\n",
    "belop_paa_konto = 0\n",
    "for i in range(20):\n",
    "    renter = belop_paa_konto * rentesats\n",
    "    belop_paa_konto += renter\n",
    "    belop_paa_konto += aarlig_belop\n",
    "\n",
    "print(f\"Miriam har {belop_paa_konto:.0f} kr på konto \"\n",
    "      f\"like etter innskudd 20.\")"
   ]
  },
  {
   "cell_type": "code",
   "execution_count": 4,
   "metadata": {},
   "outputs": [
    {
     "name": "stdout",
     "output_type": "stream",
     "text": [
      "Hermod setter inn 24501 kr for å ha 692852 kr like etter innskudd 20.\n"
     ]
    }
   ],
   "source": [
    "# oppgave 2-2b Hermods sparing\n",
    "aarlig_belop = 0\n",
    "forste_aar = 2024\n",
    "rentesats = 0.035\n",
    "onsket_belop = 692_852\n",
    "belop_paa_konto = 0\n",
    "\n",
    "while belop_paa_konto < onsket_belop:\n",
    "    belop_paa_konto = 0\n",
    "    for i in range(20):\n",
    "        renter = belop_paa_konto * rentesats\n",
    "        belop_paa_konto += renter\n",
    "        belop_paa_konto += aarlig_belop\n",
    "    aarlig_belop += 1\n",
    "\n",
    "print(f\"Hermod setter inn {aarlig_belop:.0f} kr for å \"\n",
    "      f\"ha {onsket_belop:.0f} kr like etter innskudd 20.\")"
   ]
  },
  {
   "cell_type": "code",
   "execution_count": 10,
   "metadata": {},
   "outputs": [
    {
     "name": "stdout",
     "output_type": "stream",
     "text": [
      "Miriam øker innskuddene sine med 1838  kr for å ha 1000000 kr like etter innskudd 20.\n"
     ]
    }
   ],
   "source": [
    "# oppgave 2-c Miriams sparing\n",
    "aarlig_belop = 20_000\n",
    "okning_per_aar = 0\n",
    "forste_aar = 2024\n",
    "rentesats = 0.035\n",
    "onsket_belop = 1_000_000\n",
    "belop_paa_konto = 0\n",
    "\n",
    "while belop_paa_konto < onsket_belop:\n",
    "    belop_paa_konto = 0\n",
    "    aarlig_belop = 20_000\n",
    "    for i in range(20):\n",
    "        renter = belop_paa_konto * rentesats\n",
    "        belop_paa_konto += renter\n",
    "        belop_paa_konto += aarlig_belop\n",
    "        aarlig_belop += okning_per_aar\n",
    "    okning_per_aar += 1\n",
    "\n",
    "print(f\"Miriam øker innskuddene sine med {okning_per_aar:.0f} \"\n",
    "      f\" kr for å ha {onsket_belop:.0f} kr like etter innskudd 20.\")"
   ]
  },
  {
   "cell_type": "code",
   "execution_count": 6,
   "metadata": {},
   "outputs": [
    {
     "data": {
      "text/plain": [
       "1000026.1082822642"
      ]
     },
     "execution_count": 6,
     "metadata": {},
     "output_type": "execute_result"
    }
   ],
   "source": [
    "belop_paa_konto"
   ]
  },
  {
   "cell_type": "code",
   "execution_count": null,
   "metadata": {},
   "outputs": [],
   "source": []
  }
 ],
 "metadata": {
  "kernelspec": {
   "display_name": "jupyter",
   "language": "python",
   "name": "python3"
  },
  "language_info": {
   "codemirror_mode": {
    "name": "ipython",
    "version": 3
   },
   "file_extension": ".py",
   "mimetype": "text/x-python",
   "name": "python",
   "nbconvert_exporter": "python",
   "pygments_lexer": "ipython3",
   "version": "3.11.0"
  }
 },
 "nbformat": 4,
 "nbformat_minor": 2
}
