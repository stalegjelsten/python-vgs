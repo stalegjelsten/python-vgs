{
 "cells": [
  {
   "cell_type": "code",
   "execution_count": null,
   "metadata": {},
   "outputs": [],
   "source": [
    "import matplotlib.pyplot as plt\n",
    "import numpy as np\n",
    "\n",
    "t_slutt = 15  # total lengde simulering [s]\n",
    "dt = 0.001  # tidsintervall [s]\n",
    "g = 9.81  # tyngdeaks [m/s^2]\n",
    "r = 0.02  # luftmostanstandskonst [1/m]\n",
    "\n",
    "n = int(t_slutt / dt)  # antall steg\n",
    "t = np.linspace(0, t_slutt, n)  # array med tidspunkter [s]\n",
    "s = np.zeros(n)  # tom array med pos [m]\n",
    "v = np.zeros(n)  # tom array med fart [m/s]\n",
    "a = (-g) * np.ones(n)  # array med aks hvor alle elementer er -g [m/s^2]\n",
    "\n",
    "\n",
    "for i in range(n - 1):\n",
    "    s[i + 1] = s[i] + v[i] * dt\n",
    "    v[i + 1] = v[i] + a[i] * dt\n",
    "    a[i + 1] = a[i + 1] + r * v[i + 1] ** 2\n",
    "\n",
    "fig, axs = plt.subplots(3, 1, sharex=True)\n",
    "\n",
    "fig.set_size_inches(6, 8)\n",
    "for ax in axs.flat:\n",
    "    ax.grid()\n",
    "\n",
    "axs[0].plot(t, a)\n",
    "axs[0].set_title(\"Akselerasjon\")\n",
    "axs[0].set_ylabel(\"$a$ [ms$^{-2}$]\")\n",
    "\n",
    "axs[1].plot(t, v)\n",
    "axs[1].set_title(\"Fart\")\n",
    "axs[1].set_ylabel(\"$v$ [m/s]\")\n",
    "\n",
    "axs[2].plot(t, s)\n",
    "axs[2].set_title(\"Posisjon\")\n",
    "axs[2].set_ylabel(\"$s$ [m]\")\n",
    "axs[2].set_xlabel(\"$t$ [s]\")\n",
    "\n",
    "plt.show()"
   ]
  }
 ],
 "nbformat": 4,
 "nbformat_minor": 2,
 "metadata": {
  "language_info": {
   "codemirror_mode": {
    "name": "ipython",
    "version": 3
   },
   "file_extension": ".py",
   "mimetype": "text/x-python",
   "name": "python",
   "nbconvert_exporter": "python",
   "pygments_lexer": "ipython3",
   "version": 3
  }
 }
}